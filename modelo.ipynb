{
 "cells": [
  {
   "cell_type": "markdown",
   "id": "8eac896e2228cf84",
   "metadata": {},
   "source": [
    "# Contexto del Modelo"
   ]
  },
  {
   "cell_type": "markdown",
   "id": "35164f42ad1a7cd8",
   "metadata": {},
   "source": [
    "Este conjunto de datos está relacionado con las variantes tintas de los vinos españoles. El conjunto de datos describe varias métricas de popularidad y descripción y su efecto sobre su calidad. Los conjuntos de datos se pueden utilizar para tareas de clasificación o regresión. Las clases están ordenadas y no equilibradas (es decir, la calidad va entre 0 y 10 puntos). La tarea consiste en predecir la calidad del vino utilizando los datos proporcionados"
   ]
  },
  {
   "metadata": {
    "jupyter": {
     "is_executing": true
    },
    "ExecuteTime": {
     "start_time": "2025-01-05T01:17:28.108516Z"
    }
   },
   "cell_type": "code",
   "source": "pip install pandas numpy scikit-learn lightgbm imbalanced-learn matplotlib seaborn shap pdpbox",
   "id": "2ea34758220c27f9",
   "outputs": [],
   "execution_count": null
  },
  {
   "metadata": {
    "ExecuteTime": {
     "end_time": "2025-01-05T01:17:06.159167Z",
     "start_time": "2025-01-05T01:17:06.109169Z"
    }
   },
   "cell_type": "code",
   "source": [
    "# Import necessary libraries\n",
    "import pandas as pd\n",
    "import numpy as np\n",
    "from sklearn.model_selection import train_test_split, RandomizedSearchCV, learning_curve\n",
    "from sklearn.preprocessing import MinMaxScaler\n",
    "from sklearn.decomposition import PCA\n",
    "from sklearn.metrics import mean_absolute_error, mean_squared_error, r2_score\n",
    "from sklearn.inspection import PartialDependenceDisplay\n",
    "from lightgbm import LGBMRegressor\n",
    "from imblearn.over_sampling import SMOTE\n",
    "import matplotlib.pyplot as plt\n",
    "import seaborn as sns\n",
    "import shap\n",
    "import warnings\n",
    "from pdpbox import pdp, info_plots\n",
    "\n",
    "# Configuration to ignore specific warnings\n",
    "warnings.filterwarnings(\"ignore\", category=FutureWarning, module='sklearn')\n",
    "warnings.filterwarnings(\"ignore\", category=FutureWarning, module='lightgbm')\n",
    "\n",
    "# Configuration for plots\n",
    "sns.set(style=\"whitegrid\")\n",
    "\n",
    "# Load and explore the data\n",
    "red_wine = pd.read_csv('winequality-red.csv', sep=';')\n",
    "white_wine = pd.read_csv('winequality-white.csv', sep=';')\n",
    "\n",
    "# Combine the datasets\n",
    "all_wine = pd.concat([red_wine, white_wine], ignore_index=True)\n",
    "\n",
    "# Initial analysis\n",
    "print(\"Dataset size:\", all_wine.shape)\n",
    "print(all_wine.describe())\n",
    "print(all_wine.isnull().sum())  # Check for missing values\n",
    "\n",
    "# Visualize the distribution of wine quality\n",
    "plt.figure(figsize=(10, 6))\n",
    "sns.histplot(all_wine['quality'], kde=True, color='blue')\n",
    "plt.title('Wine Quality Distribution')\n",
    "plt.xlabel('Quality')\n",
    "plt.ylabel('Frequency')\n",
    "plt.show()\n",
    "\n",
    "# Check for multicollinearity\n",
    "plt.figure(figsize=(12, 10))\n",
    "sns.heatmap(all_wine.corr(), annot=True, cmap='coolwarm', fmt=\".2f\")\n",
    "plt.title('Feature Correlation Matrix')\n",
    "plt.show()\n",
    "\n",
    "# Balance data with SMOTE\n",
    "X = all_wine.drop('quality', axis=1)\n",
    "y = all_wine['quality']\n",
    "\n",
    "smote = SMOTE(random_state=42, k_neighbors=1)\n",
    "X_resampled, y_resampled = smote.fit_resample(X, y)\n",
    "\n",
    "# Verify distribution after balancing\n",
    "plt.figure(figsize=(10, 6))\n",
    "sns.countplot(x=y_resampled, hue=y_resampled, palette=\"coolwarm\", legend=False)\n",
    "plt.title(\"Class Distribution After Balancing (SMOTE)\")\n",
    "plt.xlabel(\"Quality\")\n",
    "plt.ylabel(\"Frequency\")\n",
    "plt.show()\n",
    "\n",
    "# Normalize the data\n",
    "scaler = MinMaxScaler()\n",
    "X_scaled = scaler.fit_transform(X_resampled)\n",
    "\n",
    "# Reduce dimensionality with PCA\n",
    "pca = PCA(n_components=8)\n",
    "X_pca = pca.fit_transform(X_scaled)\n",
    "print(\"Explained variance by each component:\", pca.explained_variance_ratio_)\n",
    "\n",
    "# Split the dataset\n",
    "X_train, X_test, y_train, y_test = train_test_split(X_pca, y_resampled, test_size=0.2, random_state=42)\n",
    "\n",
    "# Train LightGBM model\n",
    "lgbm = LGBMRegressor(random_state=42)\n",
    "\n",
    "# Hyperparameter tuning\n",
    "param_dist = {\n",
    "    'num_leaves': [20, 31, 50],\n",
    "    'learning_rate': [0.01, 0.05, 0.1],\n",
    "    'n_estimators': [50, 100, 200],\n",
    "    'max_depth': [-1, 10, 20]\n",
    "}\n",
    "\n",
    "random_search = RandomizedSearchCV(\n",
    "    estimator=lgbm,\n",
    "    param_distributions=param_dist,\n",
    "    n_iter=30,\n",
    "    cv=3,\n",
    "    verbose=1,\n",
    "    random_state=42,\n",
    "    n_jobs=-1\n",
    ")\n",
    "random_search.fit(X_train, y_train)\n",
    "\n",
    "# Best model\n",
    "best_lgbm = random_search.best_estimator_\n",
    "print(\"Best hyperparameters:\", random_search.best_params_)\n",
    "\n",
    "# Model evaluation\n",
    "y_pred = best_lgbm.predict(X_test)\n",
    "\n",
    "mae = mean_absolute_error(y_test, y_pred)\n",
    "mse = mean_squared_error(y_test, y_pred)\n",
    "r2 = r2_score(y_test, y_pred)\n",
    "\n",
    "print(f'Mean Absolute Error: {mae}')\n",
    "print(f'Mean Squared Error: {mse}')\n",
    "print(f'R² Score: {r2}')\n",
    "\n",
    "# Feature importance visualization\n",
    "explainer = shap.TreeExplainer(best_lgbm)\n",
    "shap_values = explainer.shap_values(X_test)\n",
    "\n",
    "# Transform feature importance from PCA space to original space\n",
    "pca_inverse_importance = np.abs(pca.components_).T @ np.abs(shap_values).mean(axis=0)\n",
    "original_feature_importance = pd.DataFrame({\n",
    "    'feature': X.columns,\n",
    "    'importance': pca_inverse_importance\n",
    "}).sort_values(by='importance', ascending=False)\n",
    "\n",
    "# Plot feature importance\n",
    "plt.figure(figsize=(10, 6))\n",
    "sns.barplot(data=original_feature_importance, x='importance', y='feature', palette=\"viridis\")\n",
    "plt.title('Original Feature Importance')\n",
    "plt.xlabel('Importance')\n",
    "plt.ylabel('Features')\n",
    "plt.show()\n",
    "\n",
    "\n",
    "\n",
    "\n"
   ],
   "id": "e6bd11798d0e5ddf",
   "outputs": [
    {
     "ename": "ModuleNotFoundError",
     "evalue": "No module named 'pandas'",
     "output_type": "error",
     "traceback": [
      "\u001B[1;31m---------------------------------------------------------------------------\u001B[0m",
      "\u001B[1;31mModuleNotFoundError\u001B[0m                       Traceback (most recent call last)",
      "Cell \u001B[1;32mIn[20], line 2\u001B[0m\n\u001B[0;32m      1\u001B[0m \u001B[38;5;66;03m# Import necessary libraries\u001B[39;00m\n\u001B[1;32m----> 2\u001B[0m \u001B[38;5;28;01mimport\u001B[39;00m \u001B[38;5;21;01mpandas\u001B[39;00m \u001B[38;5;28;01mas\u001B[39;00m \u001B[38;5;21;01mpd\u001B[39;00m\n\u001B[0;32m      3\u001B[0m \u001B[38;5;28;01mimport\u001B[39;00m \u001B[38;5;21;01mnumpy\u001B[39;00m \u001B[38;5;28;01mas\u001B[39;00m \u001B[38;5;21;01mnp\u001B[39;00m\n\u001B[0;32m      4\u001B[0m \u001B[38;5;28;01mfrom\u001B[39;00m \u001B[38;5;21;01msklearn\u001B[39;00m\u001B[38;5;21;01m.\u001B[39;00m\u001B[38;5;21;01mmodel_selection\u001B[39;00m \u001B[38;5;28;01mimport\u001B[39;00m train_test_split, RandomizedSearchCV, learning_curve\n",
      "\u001B[1;31mModuleNotFoundError\u001B[0m: No module named 'pandas'"
     ]
    }
   ],
   "execution_count": 20
  }
 ],
 "metadata": {
  "kernelspec": {
   "display_name": "Python 3 (ipykernel)",
   "language": "python",
   "name": "python3"
  },
  "language_info": {
   "codemirror_mode": {
    "name": "ipython",
    "version": 3
   },
   "file_extension": ".py",
   "mimetype": "text/x-python",
   "name": "python",
   "nbconvert_exporter": "python",
   "pygments_lexer": "ipython3",
   "version": "3.9.13"
  }
 },
 "nbformat": 4,
 "nbformat_minor": 5
}
